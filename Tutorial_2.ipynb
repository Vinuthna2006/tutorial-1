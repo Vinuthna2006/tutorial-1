{
 "cells": [
  {
   "cell_type": "code",
   "execution_count": null,
   "id": "3e41dd13-34fc-4c9a-a0be-20752e542963",
   "metadata": {},
   "outputs": [],
   "source": [
    "import numpy as np\n",
    "array = np.array([[1,2,3,4],[5,6,7,8,9]])\n",
    "\n",
    "print(\"Flags:\")\n",
    "print(array.flags)\n",
    "print()\n",
    "\n",
    "print(\"Shape:\", array.shape)\n",
    "print()\n",
    "print(\"Strides:\", array.strides)\n",
    "print()\n",
    "\n",
    "print(\"Number of dimensions:\", array.ndim)\n",
    "print()\n",
    "\n",
    "print(\"Data pointer:\", array.data)\n",
    "print()\n",
    "\n",
    "print(\"Size:\", array.size)\n",
    "print()\n",
    "\n",
    "\n",
    "print(\"Item size:\", array.itemsize, \"bytes\")\n",
    "print()\n",
    "\n",
    "print(\"Base object:\", array.base)\n",
    "print()\n",
    "\n",
    "print(\"Total bytes:\", array.nbytes)\n",
    "print()\n",
    "\n",
    "print(\"Transpose:\")\n",
    "print(array.T)\n",
    "print()\n",
    "\n",
    "print(\"Real part:\")\n",
    "print(array.real)\n",
    "print()\n",
    "\n",
    "print(\"Imaginary part:\")\n",
    "print(array.imag)\n",
    "print()\n",
    "\n"
   ]
  }
 ],
 "metadata": {
  "kernelspec": {
   "display_name": "Python 3 (ipykernel)",
   "language": "python",
   "name": "python3"
  },
  "language_info": {
   "codemirror_mode": {
    "name": "ipython",
    "version": 3
   },
   "file_extension": ".py",
   "mimetype": "text/x-python",
   "name": "python",
   "nbconvert_exporter": "python",
   "pygments_lexer": "ipython3",
   "version": "3.12.4"
  }
 },
 "nbformat": 4,
 "nbformat_minor": 5
}
